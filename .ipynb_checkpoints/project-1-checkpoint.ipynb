{
 "cells": [
  {
   "cell_type": "markdown",
   "metadata": {},
   "source": [
    "\n",
    "1. Create a data dictionary\n",
    "\n",
    "admit - admission indicator 0-1(True) : BOOLEAN\n",
    "gre - Graduate Record Exam score 200-800 : INT\n",
    "gpa - Grade Point Average 0-4.0 : INT\n",
    "prestige - rank of under grad 1-4 (hi-low) : INT\n",
    "\n",
    "We would like to explore the association between X and Y\n",
    "2. What is the outcome?\n",
    "School Admission\n",
    "\n",
    "3. What are the predictors/covariates?\n",
    "X=gre,gpa and prestige\n",
    "\n",
    "4. What timeframe is this data relevent for?\n",
    "timeframe unknown, there's no date in the dataset.\n",
    "\n",
    "5. What is the hypothesis?\n",
    "the higher the under grad ranking, the better probabilty of being admitted,\n",
    "\n",
    "\n",
    "1. What are the goals of the exploratory analysis?\n",
    "standardize x's to min-max scale as needed.\n",
    "\n",
    "2a. What are the assumptions of the distribution of data?\n",
    "normal\n",
    "\n",
    "2b. How will determine the distribution of your data?\n",
    "histogram\n",
    "\n",
    "3a. How might outliers impact your analysis?\n",
    "skewed results and affects mean and std\n",
    "\n",
    "3b. How will you test for outliers?\n",
    "Q-Q plot\n",
    "\n",
    "4a. What is colinearity?\n",
    "the arrangement of one sequence in the same linear order as another sequence.\n",
    " \n",
    "4b. How will you test for colinearity?\n",
    "\n",
    "\n",
    "5. What is your exploratory analysis plan?\n",
    "\n",
    "The model relies on the data.  It is important to assess the quality of the data, review missing data and understand viable options to replace, remove or use proxy data.  Check the distribution of the data and confirm that the population is normally distributed.\n",
    "\n",
    "Answer:\n",
    "Bonus Questions:\n",
    "Outline your analysis method for predicting your outcome\n",
    "Write an alternative problem statement for your dataset\n",
    "Articulate the assumptions and risks of the alternative model"
   ]
  }
 ],
 "metadata": {
  "kernelspec": {
   "display_name": "Python 3",
   "language": "python",
   "name": "python3"
  },
  "language_info": {
   "codemirror_mode": {
    "name": "ipython",
    "version": 3
   },
   "file_extension": ".py",
   "mimetype": "text/x-python",
   "name": "python",
   "nbconvert_exporter": "python",
   "pygments_lexer": "ipython3",
   "version": "3.6.3"
  }
 },
 "nbformat": 4,
 "nbformat_minor": 2
}
